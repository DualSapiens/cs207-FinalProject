{
 "cells": [
  {
   "cell_type": "markdown",
   "metadata": {},
   "source": [
    "### Install Through Test PyPI"
   ]
  },
  {
   "cell_type": "markdown",
   "metadata": {},
   "source": [
    "Because we want the users to be able to use our package right away, we suggest the users to install our package in a virtual environment. Here are some suggested steps to install our package for the users:\n",
    "\n",
    "1. Type `sudo easy_install virtualenv` in the command line to check whether `virtualenv` has been installed.\n",
    "2. Type `virtualenv env`.\n",
    "3. Type `source env/bin/activate`. You now created and activated a vitrual environment.\n",
    "4. Type `python3 -m pip install --index-url https://test.pypi.org/simple/ autodiff`\n",
    "5. Now try running python and import the `autodiff` package."
   ]
  },
  {
   "cell_type": "markdown",
   "metadata": {},
   "source": [
    "### Install Manually "
   ]
  },
  {
   "cell_type": "markdown",
   "metadata": {},
   "source": [
    "If the users want to install our package manually, here are the few steps we suggest them to do:\n",
    "\n",
    "1. Download the file `cs207-FinalProject/autodiff/dist/autodiff-0.0.6.tar.gz` and `cs207-FinalProject/requirements.txt` from our Githun repository.\n",
    "2. Create a directory called `myproj` and unpack the `autodiff-0.0.6.tar.gz` file into that directory.\n",
    "3. Type `sudo easy_install virtualenv` in the command line to check whether `virtualenv` has been installed.\n",
    "4. Type `virtualenv env`.\n",
    "5. Type `source env/bin/activate`. You now created and activated a vitrual environment.\n",
    "6. Type `pip install -r requirements.txt`\n",
    "7. Under the directory, run python and import autodiff.\n",
    "\n"
   ]
  },
  {
   "cell_type": "code",
   "execution_count": null,
   "metadata": {},
   "outputs": [],
   "source": []
  }
 ],
 "metadata": {
  "kernelspec": {
   "display_name": "Python 3",
   "language": "python",
   "name": "python3"
  },
  "language_info": {
   "codemirror_mode": {
    "name": "ipython",
    "version": 3
   },
   "file_extension": ".py",
   "mimetype": "text/x-python",
   "name": "python",
   "nbconvert_exporter": "python",
   "pygments_lexer": "ipython3",
   "version": "3.6.5"
  }
 },
 "nbformat": 4,
 "nbformat_minor": 2
}
