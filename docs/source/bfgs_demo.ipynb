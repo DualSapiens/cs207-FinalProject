{
 "cells": [
  {
   "cell_type": "markdown",
   "metadata": {},
   "source": [
    "## Optimization with `gradpy`"
   ]
  },
  {
   "cell_type": "markdown",
   "metadata": {},
   "source": [
    "At the core of therapy planning for IMRT is an optimization problem which answers the following question: What are the optimal parameters, i.e. beam intensities and collimator positions, for which a radiation dose can be delivered as close to the desired dose for a given region, respecting any additional constraints, such as maximum and minimum local doses? Such questions are commonly framed as minimizations of a cost or objective function which penalizes deviations from the target, as well as failure to satisfy imposed constraints.\n",
    "\n",
    "This framework for solving optimization problems is quite general, and has been addressed by a variety of numerical optimization methods. As typical cost functions may be nonlinear with respect to the parameters to optimize, we implement the [Broyden-Fletcher-Goldfarb-Shanno (BFGS) algorithm](https://en.wikipedia.org/wiki/Broyden%E2%80%93Fletcher%E2%80%93Goldfarb%E2%80%93Shanno_algorithm), an iterative method used to solve nonlinear optimization problems. The BFGS algorithm relies on an available gradient of the objective function, to be provided by automatic differentiation using the `gradpy` package, and builds an improved estimate of the Hessian matrix at each iteration using the current solution and gradient information.\n",
    "\n",
    "In the following example, we illustrate the use of our BFGS implementation with `gradpy` to find the optimal parameters of a polynomial fit to data. We start by importing the relevant modules and define a set of random $(x,y)$ data points to fit by a polynomial:"
   ]
  },
  {
   "cell_type": "code",
   "execution_count": 2,
   "metadata": {
    "collapsed": true
   },
   "outputs": [],
   "source": [
    "from gradpy.autodiff import Var\n",
    "from therapy_planner.bfgs import BFGS\n",
    "import numpy as np\n",
    "\n",
    "data = np.array([[-2.9902373, 2.98118975],\n",
    "                 [-2.29029546, 10.58188901],\n",
    "                 [-1.64611399, 7.63332972],\n",
    "                 [-0.99102336, 5.20796568],\n",
    "                 [-0.34860237, 4.60892615],\n",
    "                 [ 0.36251216, 6.58063876],\n",
    "                 [ 0.98751744, 6.74456028],\n",
    "                 [ 1.74502127, 4.1763449 ],\n",
    "                 [ 2.42606589, 1.80673973],\n",
    "                 [ 2.9766883, 9.29002312]])"
   ]
  },
  {
   "cell_type": "markdown",
   "metadata": {},
   "source": [
    "Next we define functions that will comprise the overall cost to minimize. `MS_error` computes the mean squared error between the target $y$ and the polynomial fit `poly`. `L2_reg` is an L-2 regularization on the model parameters with weight alpha."
   ]
  },
  {
   "cell_type": "code",
   "execution_count": 3,
   "metadata": {
    "collapsed": true
   },
   "outputs": [],
   "source": [
    "def poly(x,params):\n",
    "    return params[0] + sum([params[i]*x**i for i in range(1,len(params))])\n",
    "\n",
    "def MS_error(x,y,params):\n",
    "    return sum([(poly(xi,params) - yi)**2 for xi,yi in zip(x,y)])\n",
    "\n",
    "def L2_reg(alpha,params):\n",
    "    return alpha*sum([p**2 for p in params])"
   ]
  },
  {
   "cell_type": "markdown",
   "metadata": {},
   "source": [
    "We choose a polynomial order and define a list of the corresponding number of parameters needed. The cost function is defined as a sum of the mean squared error and regularization contributions. As the cost is a function of `Var()` objects in the `params` list, it is a differentiable `autodiff` object."
   ]
  },
  {
   "cell_type": "code",
   "execution_count": 4,
   "metadata": {
    "collapsed": true
   },
   "outputs": [],
   "source": [
    "order = 5\n",
    "params = [Var() for _ in range(order+1)]\n",
    "\n",
    "alpha = 0.1\n",
    "cost = MS_error(data[:,0],data[:,1],params) + L2_reg(alpha,params)"
   ]
  },
  {
   "cell_type": "markdown",
   "metadata": {},
   "source": [
    "Using the implemented BFGS algorithm, we pass in the function to minimize (`cost`), parameters on which it depends (`params`), and an initial guess for each parameter. As `params` is a list of `Var` objects, the values are updated in place. The optimization returns the final step size and number of iterations performed, reporting `Minimum found` if the minimum is successfully obtained within the specified minimum step size tolerance."
   ]
  },
  {
   "cell_type": "code",
   "execution_count": 5,
   "metadata": {},
   "outputs": [
    {
     "name": "stdout",
     "output_type": "stream",
     "text": [
      "Minimum found.\n"
     ]
    }
   ],
   "source": [
    "step, Niter, found = BFGS(cost,params,np.ones(len(params)))\n",
    "fit_params = [p.value for p in params] # extract fitted parameters"
   ]
  },
  {
   "cell_type": "markdown",
   "metadata": {},
   "source": [
    "Finally, we visualize the data and the fit."
   ]
  },
  {
   "cell_type": "code",
   "execution_count": 6,
   "metadata": {},
   "outputs": [
    {
     "data": {
      "image/png": "[encoded data removed]",
      "text/plain": [
       "<Figure size 720x432 with 1 Axes>"
      ]
     },
     "metadata": {},
     "output_type": "display_data"
    }
   ],
   "source": [
    "%matplotlib inline\n",
    "import matplotlib.pyplot as plt\n",
    "\n",
    "fig, ax = plt.subplots(1,1,figsize=(10,6))\n",
    "ax.scatter(data[:,0],data[:,1],label='data',zorder=3,s=60)\n",
    "x = np.linspace(-3,3,100)\n",
    "ax.plot(x,poly(x,fit_params),linestyle='dashed',color='C1',label='fit')\n",
    "plt.xticks(size=14)\n",
    "plt.yticks(size=14)\n",
    "plt.legend(loc='upper center',fontsize=14)\n",
    "plt.show()"
   ]
  }
 ],
 "metadata": {
  "kernelspec": {
   "display_name": "Python 3",
   "language": "python",
   "name": "python3"
  },
  "language_info": {
   "codemirror_mode": {
    "name": "ipython",
    "version": 3
   },
   "file_extension": ".py",
   "mimetype": "text/x-python",
   "name": "python",
   "nbconvert_exporter": "python",
   "pygments_lexer": "ipython3",
   "version": "3.6.6"
  }
 },
 "nbformat": 4,
 "nbformat_minor": 2
}
