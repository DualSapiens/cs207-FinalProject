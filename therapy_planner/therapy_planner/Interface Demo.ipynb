{
 "cells": [
  {
   "cell_type": "markdown",
   "metadata": {},
   "source": [
    "## Demo of Reading the Therapy Maps"
   ]
  },
  {
   "cell_type": "code",
   "execution_count": 1,
   "metadata": {},
   "outputs": [],
   "source": [
    "%load_ext autoreload\n",
    "%autoreload 2"
   ]
  },
  {
   "cell_type": "code",
   "execution_count": 2,
   "metadata": {},
   "outputs": [
    {
     "name": "stdout",
     "output_type": "stream",
     "text": [
      "target map\n",
      "[[ 1.  2.  3.  4.]\n",
      " [ 5.  6.  7.  8.]\n",
      " [ 9. 10. 11. 12.]\n",
      " [ 1.  2.  3.  4.]]\n",
      "===================\n",
      "max map\n",
      "[[5. 5. 5. 5.]\n",
      " [5. 5. 5. 5.]\n",
      " [5. 5. 5. 5.]\n",
      " [5. 5. 5. 5.]]\n",
      "===================\n",
      "min map\n",
      "[[0. 0. 0. 0.]\n",
      " [0. 0. 0. 0.]\n",
      " [0. 0. 0. 0.]\n",
      " [0. 0. 0. 0.]]\n",
      "===================\n"
     ]
    }
   ],
   "source": [
    "from interface import read_maps\n",
    "\n",
    "maps = read_maps(\"demo.map\")\n",
    "for key, val in maps.items():\n",
    "    print(\"{} map\".format(key))\n",
    "    print(val)\n",
    "    print(\"===================\")"
   ]
  },
  {
   "cell_type": "markdown",
   "metadata": {},
   "source": [
    "## Demo of Finding the Best Laser Intensities"
   ]
  },
  {
   "cell_type": "code",
   "execution_count": 3,
   "metadata": {},
   "outputs": [],
   "source": [
    "# something like below\n",
    "# lasers = optimize(maps)\n",
    "# print(lasers)\n",
    "#    - [x1, x2, x3, x4]\n",
    "#    - [y1, y2, y3, y4]"
   ]
  }
 ],
 "metadata": {
  "kernelspec": {
   "display_name": "CS207-FinalProject",
   "language": "python",
   "name": "cs207-finalproject"
  },
  "language_info": {
   "codemirror_mode": {
    "name": "ipython",
    "version": 3
   },
   "file_extension": ".py",
   "mimetype": "text/x-python",
   "name": "python",
   "nbconvert_exporter": "python",
   "pygments_lexer": "ipython3",
   "version": "3.6.1"
  }
 },
 "nbformat": 4,
 "nbformat_minor": 2
}
